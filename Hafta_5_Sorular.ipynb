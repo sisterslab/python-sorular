{
  "cells": [
    {
      "cell_type": "markdown",
      "metadata": {
        "colab": {
          "base_uri": "https://localhost:8080/",
          "height": 130
        },
        "id": "wIOeXuGU2KBl",
        "outputId": "1c6a16bc-2471-4328-fd08-4cd7a7d5bd51"
      },
      "source": [
        "### Soru 1\n",
        "- Asagidaki 2 listeyi birlestirin, duplicate olan degerleri kaldirin."
      ]
    },
    {
      "cell_type": "code",
      "execution_count": 11,
      "metadata": {
        "id": "3rdhKTnJoS91"
      },
      "outputs": [],
      "source": [
        "liste1 = [1, 2, 3, 4, 'True', True, 64, 21, 1, 2]\n",
        "liste2 = [True, 20,21,22,4]"
      ]
    },
    {
      "cell_type": "code",
      "execution_count": 10,
      "metadata": {
        "colab": {
          "base_uri": "https://localhost:8080/"
        },
        "id": "Dehb_VNlojzC",
        "outputId": "b21214d4-d485-4a99-95b0-1585326e9710"
      },
      "outputs": [
        {
          "name": "stdout",
          "output_type": "stream",
          "text": [
            "[1, 2, 3, 4, 'True', True, 64, 21, 1, 2, True, 20, 21, 22, 4, True, 20, 21, 22, 4]\n",
            "[64, 1, 2, 3, 4, 'True', 20, 21, 22]\n"
          ]
        }
      ],
      "source": [
        "# Cevap"
      ]
    },
    {
      "cell_type": "markdown",
      "metadata": {
        "id": "Da9jZZwIqRVu"
      },
      "source": [
        "### Soru 2\n",
        "- Alttaki 2 set'te ortak bulunan degerleri `ortak` adinda bir listeye kaydedin. \n",
        "- Alttaki 2 set'te ortak olmayan degerleri `farkli` adinda bir listeye kaydedin."
      ]
    },
    {
      "cell_type": "code",
      "execution_count": 32,
      "metadata": {
        "id": "7RUo-W2DrvBx"
      },
      "outputs": [],
      "source": [
        "set1 = {1, 2, 3, 4, 'True', True, 64, 21, 1, 2}\n",
        "set2 = {True, 20,21,22,4}"
      ]
    },
    {
      "cell_type": "code",
      "execution_count": 33,
      "metadata": {
        "colab": {
          "base_uri": "https://localhost:8080/"
        },
        "id": "s_jrBAlho7Tt",
        "outputId": "e85e3076-1ef0-466c-bdae-4aa08c6e962c"
      },
      "outputs": [
        {
          "name": "stdout",
          "output_type": "stream",
          "text": [
            "ortak: [True, 4, 21] \n",
            "farkli: [64, 2, 3, 20, 22, 'True']\n"
          ]
        }
      ],
      "source": [
        "# Cevap"
      ]
    },
    {
      "cell_type": "markdown",
      "metadata": {
        "id": "jSP88SDsrF7h"
      },
      "source": [
        "### Soru 3\n",
        "- Bos bir dictionary olusturun.\n",
        "- Bu dictionary'nin `True` ve `False` adinda 2 tane `key` degeri olsun.  \n",
        "- 0 - 100 arasindaki cift sayilarin toplamini True, tek sayilarin toplami da False key'i icerisine kaydolsun.\n",
        "- Not Bu araliktaki tek sayila toplami = 2500, cift sayilar toplami ise 2450'dir.\n",
        "\n",
        "\n",
        "Ornek cikti:\n",
        "```python\n",
        "print(result_dictionary)\n",
        "\n",
        "# {False: 2500, True: 2450}\n",
        "```"
      ]
    },
    {
      "cell_type": "code",
      "execution_count": 42,
      "metadata": {
        "id": "ZwJikDbes1oq"
      },
      "outputs": [],
      "source": [
        "# Cevap"
      ]
    },
    {
      "cell_type": "markdown",
      "metadata": {
        "id": "nsAd2amruizT"
      },
      "source": [
        "### Soru 4\n",
        "- Altta yer alan ilk liste kisilerin isimleridir. Ikinci liste ise kisilerin yaslaridir.\n",
        "- Bu 2 listeyi kullanarak key degeri isimlerden olusan, value degeri yaslardan olusan bir dictionary olusturun.\n",
        "\n",
        "Ornek format:\n",
        "```python\n",
        "print(bilgiler)\n",
        "\n",
        "# {'Esra': 22, 'Ezgi': 26, 'Caner': 28, . . . }\n",
        "```"
      ]
    },
    {
      "cell_type": "code",
      "execution_count": 46,
      "metadata": {
        "id": "j9LOUaWJtIKb"
      },
      "outputs": [],
      "source": [
        "isimler = ['Esra', 'Ezgi', 'Caner', 'Sinan', 'Sevval', 'Sare', 'Merve', 'Murat']\n",
        "yaslar = [22, 26, 28, 34, 32, 19, 21, 20]"
      ]
    },
    {
      "cell_type": "code",
      "execution_count": 47,
      "metadata": {
        "colab": {
          "base_uri": "https://localhost:8080/"
        },
        "id": "Pfqgue2YtZ67",
        "outputId": "849603d9-7678-431a-dc4a-0b401da52d80"
      },
      "outputs": [
        {
          "data": {
            "text/plain": [
              "{'Caner': 28,\n",
              " 'Esra': 22,\n",
              " 'Ezgi': 26,\n",
              " 'Merve': 21,\n",
              " 'Murat': 20,\n",
              " 'Sare': 19,\n",
              " 'Sevval': 32,\n",
              " 'Sinan': 34}"
            ]
          },
          "execution_count": 47,
          "metadata": {},
          "output_type": "execute_result"
        }
      ],
      "source": [
        "# Cevap"
      ]
    },
    {
      "cell_type": "markdown",
      "metadata": {
        "id": "bMUhxDZVwQ-O"
      },
      "source": [
        "### Soru 5\n",
        "Ustteki sorudaki `bilgiler` dictionary formatindaki degiskeninizden/cevabinizdan yararlaniniz.\n",
        "\n",
        "- Bir fonksiyon olusturun, ve bu fonksiyon kisilerin isimlerini alsin ve o kisilerin yaslarini dondursun.\n",
        "\n",
        "Ornek kullanim:\n",
        "```python\n",
        "yasi_kac('Caner')\n",
        "\n",
        "# 28\n",
        "```"
      ]
    },
    {
      "cell_type": "code",
      "execution_count": 51,
      "metadata": {
        "colab": {
          "base_uri": "https://localhost:8080/"
        },
        "id": "X9hf6oFfvsd8",
        "outputId": "7c739704-084e-4be4-e9a1-01cfeac837ea"
      },
      "outputs": [
        {
          "data": {
            "text/plain": [
              "28"
            ]
          },
          "execution_count": 51,
          "metadata": {},
          "output_type": "execute_result"
        }
      ],
      "source": [
        "# Cevap\n"
      ]
    },
    {
      "cell_type": "markdown",
      "metadata": {
        "id": "MmioLj-rxSaC"
      },
      "source": [
        "### Soru 6\n",
        "Soru 4. sorunun gelismis bir versiyonudur.\n",
        "\n",
        "- Asagidaki listelerden yararlanarak kisilerin isimlerini `key` olarak, diger bilgileri bir liste icerisinde `value` olarak tutan bir dictionary olusturunuz.\n",
        "\n",
        "Ornek cikti\n",
        "```python\n",
        "print(bilgiler)\n",
        "\n",
        "{'Caner': [28, 'Burdur', 'CE', 'ODTU'],\n",
        " 'Esra': [22, 'Izmir', 'Istatistik', 'DEU'],\n",
        " 'Ezgi': [26, 'Ankara', 'CS', 'EU'],\n",
        " 'Merve': [21, 'Kars', 'FTR', 'COMU'],\n",
        " 'Murat': [20, 'Bayburt', 'Tarih', 'MSU'],\n",
        " 'Sare': [19, 'Edirne', 'Fizik', 'KTU'],\n",
        " 'Sevval': [32, 'Gumushane', 'CEKO', 'Hacettepe'],\n",
        " 'Sinan': [34, 'Tokyo', 'EE', 'YTU']}\n",
        "```"
      ]
    },
    {
      "cell_type": "code",
      "execution_count": 58,
      "metadata": {
        "id": "uxcKbC5qwFOe"
      },
      "outputs": [],
      "source": [
        "isim = ['Esra', 'Ezgi', 'Caner', 'Sinan', 'Sevval', 'Sare', 'Merve', 'Murat']\n",
        "yas = [22, 26, 28, 34, 32, 19, 21, 20]\n",
        "sehir = ['Izmir', 'Ankara', 'Burdur', 'Tokyo', 'Gumushane', 'Edirne', 'Kars', 'Bayburt']\n",
        "bolum = ['Istatistik', 'CS', 'CE', 'EE', 'CEKO', 'Fizik', 'FTR', 'Tarih']\n",
        "okul = ['DEU', 'EU', 'ODTU', 'YTU', 'Hacettepe', 'KTU', 'COMU', 'MSU']"
      ]
    },
    {
      "cell_type": "code",
      "execution_count": 59,
      "metadata": {
        "colab": {
          "base_uri": "https://localhost:8080/"
        },
        "id": "yK7oRO8IyPqx",
        "outputId": "2bfeed34-09ee-45de-97d7-38acca0acf5c"
      },
      "outputs": [
        {
          "data": {
            "text/plain": [
              "{'Caner': [28, 'Burdur', 'CE', 'ODTU'],\n",
              " 'Esra': [22, 'Izmir', 'Istatistik', 'DEU'],\n",
              " 'Ezgi': [26, 'Ankara', 'CS', 'EU'],\n",
              " 'Merve': [21, 'Kars', 'FTR', 'COMU'],\n",
              " 'Murat': [20, 'Bayburt', 'Tarih', 'MSU'],\n",
              " 'Sare': [19, 'Edirne', 'Fizik', 'KTU'],\n",
              " 'Sevval': [32, 'Gumushane', 'CEKO', 'Hacettepe'],\n",
              " 'Sinan': [34, 'Tokyo', 'EE', 'YTU']}"
            ]
          },
          "execution_count": 59,
          "metadata": {},
          "output_type": "execute_result"
        }
      ],
      "source": [
        "# Cevap"
      ]
    },
    {
      "cell_type": "markdown",
      "metadata": {
        "id": "uDCbW7Zcysv0"
      },
      "source": [
        "### Soru 7\n",
        "Ustteki sorudaki `bilgiler` dictionary formatindaki degiskeninizden/cevabinizdan yararlaniniz.\n",
        "\n",
        "- Bir fonksiyon olusturun, ve bu fonksiyon 2 tane girdi alsin:\n",
        "  - isim\n",
        "  - bilgi_tipi\n",
        "Girilen bilgilere gore de kisinin belirtilen bilgisini dondursun.\n",
        "\n",
        "Ornek kullanim:\n",
        "```python\n",
        "bilgiye_ulas('Caner', 'okul')\n",
        "\n",
        "# ODTU\n",
        "```"
      ]
    },
    {
      "cell_type": "code",
      "execution_count": 62,
      "metadata": {
        "colab": {
          "base_uri": "https://localhost:8080/",
          "height": 35
        },
        "id": "TWUiekUKyjak",
        "outputId": "62667229-56eb-49cb-d432-c0d255ce9f63"
      },
      "outputs": [
        {
          "data": {
            "application/vnd.google.colaboratory.intrinsic+json": {
              "type": "string"
            },
            "text/plain": [
              "'ODTU'"
            ]
          },
          "execution_count": 62,
          "metadata": {},
          "output_type": "execute_result"
        }
      ],
      "source": [
        "# Cevap\n"
      ]
    },
    {
      "cell_type": "markdown",
      "metadata": {},
      "source": [
        "### Soru 8\n",
        "- Input olarak bir liste alan ve liste icerisinde duplicated eleman var ise True, tum degerler unique ise False donduren bir fonksiyon olusturun.\n",
        "\n",
        "Ornek:\n",
        "```python\n",
        "checkDuplicate([1,3,4,7,8,3,2,54])\n",
        "\n",
        "# True\n",
        "```"
      ]
    },
    {
      "cell_type": "code",
      "execution_count": 1,
      "metadata": {
        "id": "LqmxbDbV0I14"
      },
      "outputs": [
        {
          "data": {
            "text/plain": [
              "True"
            ]
          },
          "execution_count": 1,
          "metadata": {},
          "output_type": "execute_result"
        }
      ],
      "source": [
        "# Cevap\n",
        "\n",
        "def checkDuplicate(liste):\n",
        "    check_dict = dict()\n",
        "\n",
        "    for i in liste:\n",
        "        if i in check_dict:\n",
        "            return True\n",
        "        else:\n",
        "            check_dict[i] = 'np'\n",
        "    return False\n",
        "\n",
        "\n",
        "checkDuplicate([1,3,4,7,8,3,2,54])\n"
      ]
    },
    {
      "cell_type": "markdown",
      "metadata": {},
      "source": [
        "### Soru 9\n",
        "- 1'i haric tum degerleri 2'ser kez iceren bir listeyi input olarak alan bir listede tekrarli olmayan degeri return ettiriniz.\n",
        "\n",
        "Ornek:\n",
        "```python\n",
        "findSingle([125, 46, 1, 14, 14, 25, 46, 25, 1])\n",
        "\n",
        "# 125\n",
        "```"
      ]
    },
    {
      "cell_type": "code",
      "execution_count": 2,
      "metadata": {},
      "outputs": [
        {
          "data": {
            "text/plain": [
              "125"
            ]
          },
          "execution_count": 2,
          "metadata": {},
          "output_type": "execute_result"
        }
      ],
      "source": [
        "# Cevap\n",
        "\n",
        "def findSingle(liste):\n",
        "    cift = dict()\n",
        "    \n",
        "    for i in liste:\n",
        "        if i in cift:\n",
        "            del cift[i]\n",
        "        else:\n",
        "            cift[i] = 1\n",
        "    return list(cift.keys())[0]\n",
        "\n",
        "\n",
        "findSingle([125, 46, 1, 14, 14, 25, 46, 25, 1])"
      ]
    },
    {
      "cell_type": "markdown",
      "metadata": {},
      "source": [
        "### Soru 10\n",
        "- Input olarak bir liste alan ve listenin elemanlarinin sirali olarak `kumulatif toplami` ni alarak 0'dan baslayip 1'er artan key'lere atayan bir fonksiyon yaziniz.\n",
        "Hedef input ve ciktiniz asagida gibi olmalidir\n",
        "\n",
        "```python\n",
        "cumulativeDictionary([5, 15, 20, 25, 35, 45, 55, 100, 200, 300])\n",
        "\n",
        "# {0: 5, 1: 20, 2: 40, 3: 65, 4: 100, 5: 145, 6: 200, 7: 300, 8: 500, 9: 800}\n",
        "```"
      ]
    },
    {
      "cell_type": "code",
      "execution_count": 3,
      "metadata": {},
      "outputs": [
        {
          "data": {
            "text/plain": [
              "{0: 5, 1: 20, 2: 40, 3: 65, 4: 100, 5: 145, 6: 200, 7: 300, 8: 500, 9: 800}"
            ]
          },
          "execution_count": 3,
          "metadata": {},
          "output_type": "execute_result"
        }
      ],
      "source": [
        "# Cevap\n",
        "\n",
        "def cumulativeDictionary(liste):\n",
        "    dictionary = {}\n",
        "\n",
        "    for i in range(len(liste)):\n",
        "        if len(dictionary) == 0:\n",
        "            dictionary[i] = liste[i]\n",
        "        else:\n",
        "            dictionary[i] = liste[i] + dictionary[i-1]\n",
        "\n",
        "    return dictionary\n",
        "\n",
        "\n",
        "cumulativeDictionary([5, 15, 20, 25, 35, 45, 55, 100, 200, 300])"
      ]
    },
    {
      "cell_type": "markdown",
      "metadata": {},
      "source": [
        "### Soru 11\n",
        "- Input olarak bir string alan ve output olarak bu stringin karakterlerini key, bu karakterlerin tekrar etme sikligini value olarak tutan bir dictionary donduren bir fonksiyon olusutrunuz.\n",
        "\n",
        "Ornek:\n",
        "```python\n",
        "frequencies('sisterslab2022')\n",
        "\n",
        "# {'s': 3, 'i': 1, 't': 1, 'e': 1, 'r': 1, 'l': 1, 'a': 1, 'b': 1, '2': 3, '0': 1}\n",
        "```"
      ]
    },
    {
      "cell_type": "code",
      "execution_count": 4,
      "metadata": {},
      "outputs": [
        {
          "data": {
            "text/plain": [
              "{'s': 3,\n",
              " 'i': 1,\n",
              " 't': 1,\n",
              " 'e': 1,\n",
              " 'r': 1,\n",
              " 'l': 1,\n",
              " 'a': 1,\n",
              " 'b': 1,\n",
              " '2': 3,\n",
              " '0': 1}"
            ]
          },
          "execution_count": 4,
          "metadata": {},
          "output_type": "execute_result"
        }
      ],
      "source": [
        "# Cevap\n",
        "\n",
        "def frequencies(string):\n",
        "    result_dict = {}\n",
        "    \n",
        "    for i in string:\n",
        "        result_dict[i] = string.count(i)\n",
        "\n",
        "    return result_dict\n",
        "\n",
        "\n",
        "frequencies('sisterslab2022')"
      ]
    },
    {
      "cell_type": "code",
      "execution_count": null,
      "metadata": {},
      "outputs": [],
      "source": []
    }
  ],
  "metadata": {
    "colab": {
      "collapsed_sections": [],
      "name": "Hafta_5_Sorular.ipynb",
      "provenance": []
    },
    "kernelspec": {
      "display_name": "Python 3.7.6 64-bit",
      "language": "python",
      "name": "python3"
    },
    "language_info": {
      "codemirror_mode": {
        "name": "ipython",
        "version": 3
      },
      "file_extension": ".py",
      "mimetype": "text/x-python",
      "name": "python",
      "nbconvert_exporter": "python",
      "pygments_lexer": "ipython3",
      "version": "3.7.6"
    },
    "vscode": {
      "interpreter": {
        "hash": "32101a8118c94f36cfba773c286bb0b54d6de613c34f73590bc6c816a2930046"
      }
    }
  },
  "nbformat": 4,
  "nbformat_minor": 0
}
