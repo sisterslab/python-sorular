{
  "cells": [
    {
      "cell_type": "markdown",
      "metadata": {
        "id": "PJwgQajirDJI"
      },
      "source": [
        "### Soru 1\n",
        "- Altta verilen kod parcasi ile dataframe'i olusturun. Ve ardindan df.info() ile kolonlarin veri tipini goruntuleyin.\n",
        "  - Dataframein basarili bir sekilde olustugunu goreceksiniz. Yaslar kolonunu kontrol ettiginizde type olarak 'object' gorunuyor. Uygun duzeltme islemini gerceklestirip yaslar kolonunu 'integer' olarak guncelleyin.\n",
        "  Ipucu kullanimlar: \n",
        "```python\n",
        "  df['yaslar']\n",
        "  yas = yas.replace('x', '')\n",
        "  df['yaslar'].astype( TYPE )\n",
        "```\n",
        "\n",
        "\n",
        "```py\n",
        "df = pd.DataFrame({\n",
        "    'isimler': ['ali', 'arya', 'betul', 'nil'],\n",
        "    'yaslar': [15, 20, '22', '22a']\n",
        "})\n",
        "\n",
        "df.info()\n",
        "\n",
        "df\n",
        "```"
      ]
    },
    {
      "cell_type": "code",
      "execution_count": null,
      "metadata": {},
      "outputs": [],
      "source": [
        "# Cevap"
      ]
    },
    {
      "cell_type": "code",
      "execution_count": null,
      "metadata": {},
      "outputs": [],
      "source": []
    },
    {
      "cell_type": "markdown",
      "metadata": {
        "id": "YpgfnsXfvwPT"
      },
      "source": [
        "### Soru - 2\n",
        "Alttaki kodu calistirip dataframe'i olusturun. \n",
        "Dataframede indexlerin sirasinda bir sorun gorunuyor. Bu sorunu asip indexleri \n",
        "#### 2.1\n",
        "\n",
        "0,1,2,3 seklinde ayarlayin.\n",
        "#### 2.2 \n",
        "isimler kolonunu dataframe'e index olarak atayin"
      ]
    },
    {
      "cell_type": "code",
      "execution_count": null,
      "metadata": {
        "colab": {
          "base_uri": "https://localhost:8080/",
          "height": 175
        },
        "id": "CLvmkPkuvNtg",
        "outputId": "aa29b626-8f2c-4242-eb5a-3a47c1b0d2f7"
      },
      "outputs": [
        {
          "data": {
            "text/html": [
              "\n",
              "  <div id=\"df-d830c46f-a5f8-4831-ba39-77bb163ea615\">\n",
              "    <div class=\"colab-df-container\">\n",
              "      <div>\n",
              "<style scoped>\n",
              "    .dataframe tbody tr th:only-of-type {\n",
              "        vertical-align: middle;\n",
              "    }\n",
              "\n",
              "    .dataframe tbody tr th {\n",
              "        vertical-align: top;\n",
              "    }\n",
              "\n",
              "    .dataframe thead th {\n",
              "        text-align: right;\n",
              "    }\n",
              "</style>\n",
              "<table border=\"1\" class=\"dataframe\">\n",
              "  <thead>\n",
              "    <tr style=\"text-align: right;\">\n",
              "      <th></th>\n",
              "      <th>isimler</th>\n",
              "      <th>yaslar</th>\n",
              "    </tr>\n",
              "  </thead>\n",
              "  <tbody>\n",
              "    <tr>\n",
              "      <th>0</th>\n",
              "      <td>ali</td>\n",
              "      <td>15</td>\n",
              "    </tr>\n",
              "    <tr>\n",
              "      <th>1</th>\n",
              "      <td>arya</td>\n",
              "      <td>20</td>\n",
              "    </tr>\n",
              "    <tr>\n",
              "      <th>3</th>\n",
              "      <td>betul</td>\n",
              "      <td>22</td>\n",
              "    </tr>\n",
              "    <tr>\n",
              "      <th>4</th>\n",
              "      <td>nil</td>\n",
              "      <td>22</td>\n",
              "    </tr>\n",
              "  </tbody>\n",
              "</table>\n",
              "</div>\n",
              "      <button class=\"colab-df-convert\" onclick=\"convertToInteractive('df-d830c46f-a5f8-4831-ba39-77bb163ea615')\"\n",
              "              title=\"Convert this dataframe to an interactive table.\"\n",
              "              style=\"display:none;\">\n",
              "        \n",
              "  <svg xmlns=\"http://www.w3.org/2000/svg\" height=\"24px\"viewBox=\"0 0 24 24\"\n",
              "       width=\"24px\">\n",
              "    <path d=\"M0 0h24v24H0V0z\" fill=\"none\"/>\n",
              "    <path d=\"M18.56 5.44l.94 2.06.94-2.06 2.06-.94-2.06-.94-.94-2.06-.94 2.06-2.06.94zm-11 1L8.5 8.5l.94-2.06 2.06-.94-2.06-.94L8.5 2.5l-.94 2.06-2.06.94zm10 10l.94 2.06.94-2.06 2.06-.94-2.06-.94-.94-2.06-.94 2.06-2.06.94z\"/><path d=\"M17.41 7.96l-1.37-1.37c-.4-.4-.92-.59-1.43-.59-.52 0-1.04.2-1.43.59L10.3 9.45l-7.72 7.72c-.78.78-.78 2.05 0 2.83L4 21.41c.39.39.9.59 1.41.59.51 0 1.02-.2 1.41-.59l7.78-7.78 2.81-2.81c.8-.78.8-2.07 0-2.86zM5.41 20L4 18.59l7.72-7.72 1.47 1.35L5.41 20z\"/>\n",
              "  </svg>\n",
              "      </button>\n",
              "      \n",
              "  <style>\n",
              "    .colab-df-container {\n",
              "      display:flex;\n",
              "      flex-wrap:wrap;\n",
              "      gap: 12px;\n",
              "    }\n",
              "\n",
              "    .colab-df-convert {\n",
              "      background-color: #E8F0FE;\n",
              "      border: none;\n",
              "      border-radius: 50%;\n",
              "      cursor: pointer;\n",
              "      display: none;\n",
              "      fill: #1967D2;\n",
              "      height: 32px;\n",
              "      padding: 0 0 0 0;\n",
              "      width: 32px;\n",
              "    }\n",
              "\n",
              "    .colab-df-convert:hover {\n",
              "      background-color: #E2EBFA;\n",
              "      box-shadow: 0px 1px 2px rgba(60, 64, 67, 0.3), 0px 1px 3px 1px rgba(60, 64, 67, 0.15);\n",
              "      fill: #174EA6;\n",
              "    }\n",
              "\n",
              "    [theme=dark] .colab-df-convert {\n",
              "      background-color: #3B4455;\n",
              "      fill: #D2E3FC;\n",
              "    }\n",
              "\n",
              "    [theme=dark] .colab-df-convert:hover {\n",
              "      background-color: #434B5C;\n",
              "      box-shadow: 0px 1px 3px 1px rgba(0, 0, 0, 0.15);\n",
              "      filter: drop-shadow(0px 1px 2px rgba(0, 0, 0, 0.3));\n",
              "      fill: #FFFFFF;\n",
              "    }\n",
              "  </style>\n",
              "\n",
              "      <script>\n",
              "        const buttonEl =\n",
              "          document.querySelector('#df-d830c46f-a5f8-4831-ba39-77bb163ea615 button.colab-df-convert');\n",
              "        buttonEl.style.display =\n",
              "          google.colab.kernel.accessAllowed ? 'block' : 'none';\n",
              "\n",
              "        async function convertToInteractive(key) {\n",
              "          const element = document.querySelector('#df-d830c46f-a5f8-4831-ba39-77bb163ea615');\n",
              "          const dataTable =\n",
              "            await google.colab.kernel.invokeFunction('convertToInteractive',\n",
              "                                                     [key], {});\n",
              "          if (!dataTable) return;\n",
              "\n",
              "          const docLinkHtml = 'Like what you see? Visit the ' +\n",
              "            '<a target=\"_blank\" href=https://colab.research.google.com/notebooks/data_table.ipynb>data table notebook</a>'\n",
              "            + ' to learn more about interactive tables.';\n",
              "          element.innerHTML = '';\n",
              "          dataTable['output_type'] = 'display_data';\n",
              "          await google.colab.output.renderOutput(dataTable, element);\n",
              "          const docLink = document.createElement('div');\n",
              "          docLink.innerHTML = docLinkHtml;\n",
              "          element.appendChild(docLink);\n",
              "        }\n",
              "      </script>\n",
              "    </div>\n",
              "  </div>\n",
              "  "
            ],
            "text/plain": [
              "  isimler  yaslar\n",
              "0     ali      15\n",
              "1    arya      20\n",
              "3   betul      22\n",
              "4     nil      22"
            ]
          },
          "execution_count": 7,
          "metadata": {},
          "output_type": "execute_result"
        }
      ],
      "source": [
        "df = pd.DataFrame({\n",
        "    'isimler': ['ali', 'arya', 'betul', 'nil'],\n",
        "    'yaslar': [15, 20, 22, 22]\n",
        "}, index = [0, 1, 3, 4])\n",
        "\n",
        "df"
      ]
    },
    {
      "cell_type": "code",
      "execution_count": null,
      "metadata": {},
      "outputs": [],
      "source": [
        "# Cevap"
      ]
    },
    {
      "cell_type": "code",
      "execution_count": null,
      "metadata": {},
      "outputs": [],
      "source": []
    },
    {
      "cell_type": "markdown",
      "metadata": {
        "id": "VjZequLU1tyG"
      },
      "source": [
        "### Soru - 3\n",
        "##### 3.1\n",
        "- Acc_shelter_outcomes.csv dosyasini okuyunuz.\n",
        "##### 3.2\n",
        "- animal_id kolonunu index olarak atayiniz.\n",
        "##### 3.3\n",
        "- Her kolonda toplam kacar tane Null deger oldugunu bulunuz.\n",
        "##### 3.4\n",
        "- Null degerleri 'Eksik Deger' ile doldurunuz.\n",
        "##### 3.5 \n",
        "- age_upon_outcome degeri '2 week' olan islemleri filtreleyiniz.\n",
        "##### 3.6\n",
        "- Siyah Kedileri filtreleyiniz\n",
        "  - Renk bilgisi ve hayvan turu bilgisi farkli kolonlarda bulunuyor.\n",
        "##### 3.7\n",
        "- Verisetindeki duplicated satir sayisini bulunuz.\n",
        "##### 3.8\n",
        "- Hangi hanvan turunden kacar satir veri var bulunuz.\n",
        "  - ipucu: groupby()\n",
        "##### 3.9\n",
        "- Kedilerin sadece age_upon_outcome bilgilerini getiriniz."
      ]
    },
    {
      "cell_type": "code",
      "execution_count": 1,
      "metadata": {
        "id": "zDmu2jmAyXbO"
      },
      "outputs": [],
      "source": [
        "# Cevap"
      ]
    },
    {
      "cell_type": "code",
      "execution_count": null,
      "metadata": {},
      "outputs": [],
      "source": []
    },
    {
      "cell_type": "code",
      "execution_count": null,
      "metadata": {},
      "outputs": [],
      "source": []
    },
    {
      "cell_type": "code",
      "execution_count": null,
      "metadata": {},
      "outputs": [],
      "source": []
    },
    {
      "cell_type": "code",
      "execution_count": null,
      "metadata": {},
      "outputs": [],
      "source": []
    }
  ],
  "metadata": {
    "colab": {
      "collapsed_sections": [],
      "name": "Hafta__10_sorular.ipynb",
      "provenance": []
    },
    "kernelspec": {
      "display_name": "Python 3.7.6 64-bit",
      "language": "python",
      "name": "python3"
    },
    "language_info": {
      "codemirror_mode": {
        "name": "ipython",
        "version": 3
      },
      "file_extension": ".py",
      "mimetype": "text/x-python",
      "name": "python",
      "nbconvert_exporter": "python",
      "pygments_lexer": "ipython3",
      "version": "3.7.6"
    },
    "vscode": {
      "interpreter": {
        "hash": "32101a8118c94f36cfba773c286bb0b54d6de613c34f73590bc6c816a2930046"
      }
    }
  },
  "nbformat": 4,
  "nbformat_minor": 0
}
