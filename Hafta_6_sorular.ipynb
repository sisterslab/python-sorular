{
  "cells": [
    {
      "cell_type": "markdown",
      "metadata": {
        "id": "cq0qW3-sbwSn"
      },
      "source": [
        "### Soru 0\n",
        "- Input alarak dosya ismini alan ve calistirildiginda ilgili dosyayi okuyup icerigini yazdiran/donduren bir fonksiyon tasarlayiniz."
      ]
    },
    {
      "cell_type": "code",
      "execution_count": 1,
      "metadata": {
        "id": "Fx6NLeDjbYY_"
      },
      "outputs": [
        {
          "data": {
            "text/plain": [
              "'Bu dosyayi ilk soruda olusturacaginiz fonksiyonu test etmek icin kullanabilirsiniz!'"
            ]
          },
          "execution_count": 1,
          "metadata": {},
          "output_type": "execute_result"
        }
      ],
      "source": [
        "# Cevap\n",
        "\n",
        "def read_file(file_name):\n",
        "    # Ara islemleri doldurabilirsiniz\n",
        "    \n",
        "    return icerik\n",
        "\n",
        "read_file('files/test.txt')"
      ]
    },
    {
      "cell_type": "markdown",
      "metadata": {
        "id": "U_Fsx-I7cKmI"
      },
      "source": [
        "---------------"
      ]
    },
    {
      "cell_type": "code",
      "execution_count": 2,
      "metadata": {
        "id": "frbRe2hccLIL"
      },
      "outputs": [],
      "source": [
        "ornek_text = \"\"\"The Solopreneur Sabbatical\n",
        "From CTO to unemployed overnight - what now?\n",
        "Mar 28, 2017\n",
        "\n",
        "What was I thinking?\n",
        "\n",
        "It’s 4:43pm on March 20th, 2017. I’m less than 1 day into my 6-month sabbatical and I’m feeling a bit lost.\n",
        "\n",
        "Sabbatical is a great word. “Unpaid sabbatical.” It sounds so impressive; so academic; so professional; so legitimate. It doesn’t sound quite so impressive if you use some of the other words that mean the same thing. Vacation. Unemployment.\n",
        "\n",
        "How did I end up sitting on my couch, unemployed, staring at a computer with nothing to do? And what am I going to do now?\n",
        "\n",
        "Backstory\n",
        "Let’s journey back in time a bit.\n",
        "\n",
        "Towards the end of 2016, as I approached my 10-year anniversary as CTO of Dimagi I found myself feeling like I was in a rut.\n",
        "\n",
        "I was still deeply invested in my work, but no longer feeling deeply excited. I was working long and stressful hours, but without the energy and excitement that had long characterized my work. As the organization, the team, and the responsibilities grew around me, so too did the demands on my time and energy. I suddenly found myself with very little control over my own time or my own work. Somewhere along the line I had gone from maker to manager and didn’t know how to go back.\n",
        "\n",
        "Somewhere along the line I had gone from maker to manager and didn’t know how to go back.\n",
        "\n",
        "I decided I needed a change. I wanted to experience the joy of building something again. The joy of discovery - of doing something totally new and different. The joy of controlling my own time, my own direction, my own life.\n",
        "\n",
        "Thankfully, Dimagi (an amazing company, by the way) was kind enough to give me six months off - no questions asked - and so my solopreneur sabbatical was born.\n",
        "\n",
        "A Solopreneur Sabbatical\n",
        "At this point you might be wondering “what the heck is a solopreneur sabbatical?”\n",
        "\n",
        "Let me first explain what a solopreneur is in case you’re unfamiliar with the term.\n",
        "\n",
        "A solopreneur is an entrepreneur who - unlike most entrepreneurs - is in it for the lifestyle and not the money. Someone who wants to “go it alone” instead of building an empire. It’s a word that’s becoming increasingly common among freelancers and lifestyle enthusiasts around the world.\n",
        "\n",
        "A solopreneur is an entrepreneur who - unlike most entrepreneurs - is in it for the lifestyle and not the money.\n",
        "\n",
        "When I first came across the term I was thrilled to finally have a word that perfectly represented my own interests. I don’t want to join an incubator, raise a bunch of money, or sell a company to Google. I don’t want to hire people, experience exponential growth, or be “disruptive”.\n",
        "\n",
        "What I want to do is make things that are good for the world, work independently and on my own terms, and earn enough money to live how I want. Sounds pretty good, right?\n",
        "\n",
        "What are my plans so far?\n",
        "I imagine my plans will be in a constant state of flux, but here are a few things I’ve decided so far.\n",
        "\n",
        "I want to do this in public. That’s why I’m writing this. Whatever I do I want to document it as I go along. There’s nothing quite like experiencing someone’s journey in real time - celebrating their successes and learning from their failures together. I also hope this helps create enough accountability to keep me off the couch.\n",
        "\n",
        "I want to build things. I love making things. There’s no feeling like the rush of productivity when you achieve flow and in the blink of an eye 6 hours have gone by. Or the joy of watching someone use a product you’ve built and seeing them “get it”. I want more joy of creation in my life.\n",
        "\n",
        "I want to launch something that earns money. Building things is fun but doesn’t pay your bills. Ultimately to achieve a lifestyle I want I’m going to need to figure out how to make some money. I have to guess that for every person who thinks about making a product, 80% of them never do, and of the ones that do I bet another 80% never earn a dollar off them.\n",
        "\n",
        "The product builder funnel\n",
        "\n",
        "My guess at what the community of product-makers looks like\n",
        "\n",
        "From a more concrete perspective, I expect my next few weeks to be a mix of refining my systems for how to stay on task, exploring possible product ideas, and starting to get some feasibility assessments out. And, like I mentioned, writing about my process here.\n",
        "\n",
        "How do you participate?\n",
        "If you’ve gotten this far and aren’t my wife, my father or my former CEO (did I mention Dimagi is great?), wow! Thanks for reading - I’m super excited I kept your attention this long.\n",
        "\n",
        "If you think you’d like to read more, you can help me by answering the poll below which I’ll use to inform what to write about next. Don’t worry - it’s totally anonymous and takes 3 seconds.\n",
        "\n",
        "That’s all for now!\n",
        "\n",
        "-Cory\"\"\""
      ]
    },
    {
      "cell_type": "markdown",
      "metadata": {
        "id": "nBqplr1IcAu1"
      },
      "source": [
        "### Soru 1\n",
        "- Ustte yer alan degiskeni `files` klasoru altinda `text.txt` adinda bir klasore yazdirin."
      ]
    },
    {
      "cell_type": "code",
      "execution_count": 4,
      "metadata": {
        "colab": {
          "base_uri": "https://localhost:8080/",
          "height": 200
        },
        "id": "8px28pHXb5m4",
        "outputId": "7de8465c-15f4-4f50-9219-6aff88f7841d"
      },
      "outputs": [],
      "source": [
        "# Cevap \n",
        "\n",
        "\n"
      ]
    },
    {
      "cell_type": "markdown",
      "metadata": {
        "id": "663J0oWNcj_Y"
      },
      "source": [
        "### Soru 2\n",
        "- text.txt dosyasindaki icerigin sonuna asagidaki gibi alt alta (birebir ayni sekilde) 3-4 tane isim yazdirin.\n",
        "\n",
        "```cmd\n",
        "- Sare Saba\n",
        "- Azra Demir\n",
        "- Coskun Ceng\n",
        "- Mert Altay\n",
        "```"
      ]
    },
    {
      "cell_type": "code",
      "execution_count": 7,
      "metadata": {
        "id": "RVf0-hxmcPCg"
      },
      "outputs": [],
      "source": [
        "isimler = [\"Sare Saba\", \"Azra Demir\", \"Coskun Ceng\", \"Mert Altay\"]\n",
        "\n",
        "# Cevap"
      ]
    },
    {
      "cell_type": "markdown",
      "metadata": {
        "id": "SwA3WFHlcymp"
      },
      "source": [
        "### Soru 3\n",
        "- text.txt'yi okuyun ve icerisinde kac tane 's' harfi gectigini hesaplayin.\n",
        "- (kucuk ve buyuk s harfleri de gecerli)"
      ]
    },
    {
      "cell_type": "code",
      "execution_count": 12,
      "metadata": {
        "colab": {
          "base_uri": "https://localhost:8080/"
        },
        "id": "HeI592sXcnIC",
        "outputId": "8bc73be6-c457-4783-ff0e-de3f625e7e4e"
      },
      "outputs": [],
      "source": [
        "# Cevap\n",
        "\n"
      ]
    },
    {
      "cell_type": "markdown",
      "metadata": {
        "id": "UdxrRXZpdD-L"
      },
      "source": [
        "### Soru 4\n",
        "- text.txt'yi okuyun ve icerisinde toplam kac satir boyunca yazi yazdigini hesaplayin."
      ]
    },
    {
      "cell_type": "code",
      "execution_count": 17,
      "metadata": {
        "colab": {
          "base_uri": "https://localhost:8080/"
        },
        "id": "fwsTN-fQc2xY",
        "outputId": "7af3d963-2563-4605-883f-1fe3316361da"
      },
      "outputs": [],
      "source": [
        "# Cevap"
      ]
    },
    {
      "cell_type": "markdown",
      "metadata": {
        "id": "eXutgWPee7Ym"
      },
      "source": [
        "### Soru 5\n",
        "- Carpim tablosu olusturup `carpim_tablosu.txt` dosyasi icerisine yazin.\n",
        "\n",
        "Format su sekilde olmali:\n",
        "```cmd\n",
        "1 * 1 = 1\n",
        "1 * 2 = 2\n",
        "1 * 3 = 3\n",
        ". . .\n",
        "\n",
        ". . . \n",
        "10 * 9 = 90\n",
        "10 * 10 = 100\n",
        "```"
      ]
    },
    {
      "cell_type": "code",
      "execution_count": 16,
      "metadata": {
        "colab": {
          "base_uri": "https://localhost:8080/",
          "height": 235
        },
        "id": "l7HQvj2Hc4j5",
        "outputId": "6e81359c-dfca-427e-9d60-4dac858145c5"
      },
      "outputs": [],
      "source": [
        "# Cevap\n"
      ]
    },
    {
      "cell_type": "code",
      "execution_count": null,
      "metadata": {
        "id": "oBFwBPkce8_4"
      },
      "outputs": [],
      "source": []
    }
  ],
  "metadata": {
    "colab": {
      "collapsed_sections": [],
      "name": "Hafta_6_sorular.ipynb",
      "provenance": []
    },
    "kernelspec": {
      "display_name": "Python 3.7.6 64-bit",
      "language": "python",
      "name": "python3"
    },
    "language_info": {
      "codemirror_mode": {
        "name": "ipython",
        "version": 3
      },
      "file_extension": ".py",
      "mimetype": "text/x-python",
      "name": "python",
      "nbconvert_exporter": "python",
      "pygments_lexer": "ipython3",
      "version": "3.7.6"
    },
    "vscode": {
      "interpreter": {
        "hash": "32101a8118c94f36cfba773c286bb0b54d6de613c34f73590bc6c816a2930046"
      }
    }
  },
  "nbformat": 4,
  "nbformat_minor": 0
}
