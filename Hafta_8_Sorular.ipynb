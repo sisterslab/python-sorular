{
  "cells": [
    {
      "cell_type": "markdown",
      "metadata": {
        "id": "VNnj-xG73Lmx"
      },
      "source": [
        "### Soru 1\n",
        "Aşağıdaki işlemleri yapabilecek bir Telefon sınıfı tasarlayınız.\n",
        "-  Telefonun sahibinin adı, arama hakkı ve fatura bilgilerini tutunuz.\n",
        "-  Bir başka telefonu arayabilmesi için bir metot yazınız. Arama işlemi yapan telefonun arama hakkı 1 azalmalıdır. Arama yapıldığında 'Telefon 1, Telefon 2'yi arıyor.' tarzında bir çıktı yazdırınız.\n",
        "-  Arama hakkı bittiğinde uyarı olarak ekrana bir çıktı yazdırınız.\n",
        "-  Arama hakkı olmadan arama yapan telefonun faturası her bir fazladan arama için katlanarak artmalıdır.(1. aşım için 2 birim, 2. aşım için 4 birim,3. aşım için 8 birim)\n",
        "-  Telefona arama hakkı tanımlaması belirli bir ücret karşılığında yapılabilir. Bunun için bir metot yazınız. (2 hak 3 birim, 3 hak 4 birim , 4 hak 6 birim) \n",
        "-  Telefonun özelliklerini göstermesi için bir metot yazınız.\n"
      ]
    },
    {
      "cell_type": "code",
      "execution_count": null,
      "metadata": {
        "colab": {
          "base_uri": "https://localhost:8080/"
        },
        "id": "cchFYG8WZmBl",
        "outputId": "8086b7b0-9a73-4031-a92c-e881b3daede0"
      },
      "outputs": [
        {
          "name": "stdout",
          "output_type": "stream",
          "text": [
            "Emre is calling Bilal\n",
            "Call count is over.\n",
            "Emre is calling Bilal\n",
            "Emre is calling Bilal\n",
            "Emre is calling Bilal\n",
            "Bilal is calling Burak\n",
            "Bilal is calling Burak\n",
            "Call count is over.\n",
            "Owner Name: Emre\n",
            "Call Count: -1\n",
            "Note: 17\n",
            "Owner Name: Bilal\n",
            "Call Count: 0\n",
            "Note: 0\n"
          ]
        }
      ],
      "source": [
        "# Cevap"
      ]
    },
    {
      "cell_type": "markdown",
      "metadata": {
        "id": "RstvZne2Vuif"
      },
      "source": [
        "### Soru 2\n",
        "Önceki hafta örnek veri seti olarak kullandığımız, kullanıcılara ait ad, soyad, yaş, vb... bilgileri içeren text dosyasını kullanıp bu dosyadaki satırlara uygun bir sınıf tasarlayınız. Sonrasında .txt dosyasında bulunan kayıtlarla oluşturduğunuz sınıfları bir liste içerisine atınız.\n",
        "(Oluşturulan sınıflar 2 parçaya bölünebilir. Kişisel bilgiler bir sınıfta kalan bilgiler ise diğer sınıfta tutulabilir.)\n"
      ]
    },
    {
      "cell_type": "code",
      "execution_count": null,
      "metadata": {
        "colab": {
          "base_uri": "https://localhost:8080/"
        },
        "id": "bCOFCO7wlems",
        "outputId": "dacca9c5-b801-4536-e893-bea0c7e40f0a"
      },
      "outputs": [
        {
          "name": "stdout",
          "output_type": "stream",
          "text": [
            "Name&Surname: Rosie Jones, Gender: Male, Age: 36, Company: Pinnacle West Capital Corp, Experience: 23, Salary: 153064\n",
            "\n"
          ]
        }
      ],
      "source": [
        "# Cevap"
      ]
    },
    {
      "cell_type": "markdown",
      "metadata": {
        "id": "LqtkAgI1afh5"
      },
      "source": [
        "### Soru 3\n",
        " EvHalki adinda bir class tanimlayin.\n",
        "- Bu class bir kisinin 'adini', 'cinsiyetini', 'dogum_tarihini', (var ise) 'kardeslerinin listesini', ve (evli ise) evli oldugu kisinin adini icersin.\n",
        "- Bu listeye `get_info` adinda bir method tanimlayin. Ve bu method cikti olarak su sekilde bir output print ettirsin.\n",
        "```python\n",
        "Benim adim Sezer ve ben 27.5 yasindayim.\n",
        "Sare ile evliyim.\n",
        "2 kardesim var ve onlarin adlari Ali ve Mine.\n",
        "```\n",
        "Burada dikkat etmeniz gereken konu, kisi evli olmayabilir. Bu durumda evlilige dair bir cumle yazilmasin. Ve yine kisinin kardesi yok ise kardesleri ile ilgili bir satir yazilmasin.\n",
        "- Bilgiler girilirken kisi kardeslerinin listesini eksik vermis olabilir. Kardes eklemek icin de yine `add_sibling` adinda bir metod tanimlayin.\n",
        "\n",
        "\n",
        "NOT: Kisinin dogum tarihi '1997-12-24' gibi bir string olarak girilecek. Ve bilgiler yazilirken de dinamik olarak `Bugunun tarihi - dogum_tarihi` hesabi yapilacak. Bu islemi yaptirmak icin asagidaki satirlardan yararlanabilirsiniz.\n",
        "```python\n",
        "import datetime\n",
        "\n",
        "birth_date_ = datetime.datetime.strptime(f'1997-12-24' , '%Y-%m-%d')\n",
        "date_diff = datetime.datetime.now() - birth_date_\n",
        "print(date_diff.days)\n",
        "\n",
        "# 8959\n",
        "```"
      ]
    },
    {
      "cell_type": "code",
      "execution_count": null,
      "metadata": {
        "id": "T16wENH6reLJ"
      },
      "outputs": [],
      "source": [
        "# Cevap"
      ]
    }
  ],
  "metadata": {
    "colab": {
      "collapsed_sections": [],
      "name": "Hafta_8_Sorular.ipynb",
      "provenance": []
    },
    "kernelspec": {
      "display_name": "Python 3",
      "name": "python3"
    },
    "language_info": {
      "name": "python"
    }
  },
  "nbformat": 4,
  "nbformat_minor": 0
}
