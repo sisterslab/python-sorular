{
  "cells": [
    {
      "cell_type": "markdown",
      "metadata": {
        "id": "qyHNcgnzBZra"
      },
      "source": [
        "### Soru 1\n",
        "Verilen txt dosyası ile ilgili istenilen işlemleri yapınız. Txt dosyada kişilere ait ad-soyad, cinsiyet, yaş, şirket, tecrübe ve yıllık maaş bilgileri verilmiştir. \\\n",
        "\n",
        "(Satırlardaki verilerin arasında ayraç olarak ';' kullanılmıştır.) \\\n",
        "\n",
        "**Satırları tek tek okuyup aşağıdaki işlemleri uygulayarak bir liste içine atınız. Liste içerisinde tuple olarak tutarsanız daha sonradan üzerinde işlem yapabiliriz.**\n",
        "*   Satırın sonundaki alt satıra geçme sembolünü kaldırınız.\n",
        "*   Soyadları büyük harflere çeviriniz. (' ' karakterine göre split edilerek ad ve soyad ayrılabilir.)\n",
        "*   Adda bulunan n harfinin yerine '_' ve l harfinin yerine '~' karakteri koyunuz.\n",
        "*   Adda bulunan '_' karakterini kaldırınız ve kaç adet olduğunu adın sonuna ekleyiniz. \n",
        "*   İki adı olanların ikinci adının başına '2' ekleyiniz.(2 adı olanların adlarının arasında '-' karakteri bulunmaktadır.)\n",
        "*   Her bir şirketten kaç kişi olduğunu yeni bir değişkende tutunuz.\n",
        "*   Yaş ve deneyiminin çarpımı, maaşının ilk 3 hanesinden küçük olanları listeye eklemeyiniz.\n",
        "\n",
        "(Madde yazmaya devam edeceğim)\n",
        "\n",
        "**Oluşturulan listeler ile birlikte aşağıdaki işlemleri yapınız.**\n",
        "*   Maaşların ortalamasını bulunuz.\n",
        "*   Yaşların ortalamasını bulunuz.\n"
      ]
    },
    {
      "cell_type": "code",
      "execution_count": 2,
      "metadata": {
        "colab": {
          "base_uri": "https://localhost:8080/"
        },
        "id": "PEsygcPPS1BC",
        "outputId": "cd821879-cef6-47fc-eb16-d685e1745202"
      },
      "outputs": [
        {
          "name": "stdout",
          "output_type": "stream",
          "text": [
            "Average salary:128728.34782608696\n",
            "[60, 20, 64, 19, 52, 64, 27, 21, 47, 64, 47, 31, 19, 56, 64, 61, 20, 21, 51, 57, 28, 63, 52, 51, 34, 19, 62, 51, 35, 45, 56, 28, 36, 30, 47, 39, 46, 39, 32, 38, 54, 58, 52, 27, 60, 56, 55, 44, 51, 47, 37, 63, 47, 29, 39, 45, 31, 46, 35, 56, 37, 37, 49, 28, 29, 61, 37, 20, 36]\n",
            "Average age:42.927536231884055\n"
          ]
        }
      ],
      "source": [
        "# Cevap"
      ]
    },
    {
      "cell_type": "markdown",
      "metadata": {},
      "source": [
        "### Soru 2\n",
        "Asagida bir sisteme giris fonksiyonu bulunmakta. Bu fonksiyona dogru username ve password'u yazarsaniz sisteme giris yapiliyor.\n",
        "\n",
        "Sistemin username ve password bilgisi ise infos.yaml dosyasinda bulunuyor. `infos.yaml` dosyasindaki username ve password bilgilerini python ile okuyup fonksiyona input olarak verin. \n",
        "\n",
        "Ipucu:\n",
        "```python\n",
        "import yaml\n",
        "\n",
        "# Bilindik yontemle dosyayi `open` edip\n",
        "# yaml.safe_load() fonksiyonundan yararlanin\n",
        "\n",
        "```"
      ]
    },
    {
      "cell_type": "code",
      "execution_count": 11,
      "metadata": {},
      "outputs": [],
      "source": [
        "def kullanici_dogrulama(username, password):\n",
        "  if username == 'dogru_username' and password == 'dogru_password':\n",
        "    print('Sisteme giris yapildi')\n",
        "  else:\n",
        "    print('username veya sifre yanlis')"
      ]
    },
    {
      "cell_type": "code",
      "execution_count": 12,
      "metadata": {},
      "outputs": [
        {
          "name": "stdout",
          "output_type": "stream",
          "text": [
            "Sisteme giris yapildi\n"
          ]
        }
      ],
      "source": [
        "# Cevap"
      ]
    },
    {
      "cell_type": "markdown",
      "metadata": {},
      "source": [
        "### Soru 3\n",
        "- `bilgiler.yaml` adinda bir dosya olusturun ve icerisine yaml formatinda `ad`, `soyad`, `okul`, `bolum`, `hobi` keyleri ve karsiliklarini yaziniz.\n",
        "Tum alanlar string, fakat hobi alani en az 2 tane deger iceren bir liste olsun.\n",
        "\n",
        "Ornek:\n",
        "\n",
        "```yaml\n",
        "ad: 'bilal' \n",
        "soyad: 'ozdemir' \n",
        "okul: 'deu' \n",
        "bolum: 'istatistik' \n",
        "hobi: ['kitap okumak', 'bisiklet surmek', 'yuzmek'] \n",
        "\n",
        "```\n",
        "\n",
        "Ipucu: yaml kutuphanesini kullanmadan, bilindik yontem ile write edin."
      ]
    },
    {
      "cell_type": "code",
      "execution_count": null,
      "metadata": {},
      "outputs": [],
      "source": [
        "# Cevap"
      ]
    },
    {
      "cell_type": "markdown",
      "metadata": {},
      "source": [
        "### Soru 4\n",
        "Notlar dosyasindaki kisiler ve aldiklari notlari okuyunuz. Vize notu %30, odev notu %30, final notu %40 olacak sekilde notlarin agirlikli ortalamalarini hesaplayip `sonuc.txt` dosyasina sonuclari yazdiriniz.\n",
        "- Ilk not vize, ikinci odev, ucuncusu final notudur.\n",
        "\n",
        "Ornek sonuc.txt\n",
        "```txt\n",
        "Kayra Oz --> 66.0 \n",
        "Baran Sert --> 70.0 \n",
        "Burcu Sarac --> 37.0 \n",
        "Ugur Bas --> 39.0 \n",
        "Ali Sevi --> 72.7 \n",
        "Aya Sarar --> 47.400000000000006 \n",
        "Sare Demir --> 87.0 \n",
        "Esra Tatar --> 60.7 \n",
        "```"
      ]
    },
    {
      "cell_type": "code",
      "execution_count": null,
      "metadata": {},
      "outputs": [],
      "source": [
        "# Cevap"
      ]
    },
    {
      "cell_type": "code",
      "execution_count": null,
      "metadata": {},
      "outputs": [],
      "source": []
    }
  ],
  "metadata": {
    "colab": {
      "collapsed_sections": [],
      "name": "Hafta_7_Sorular.ipynb",
      "provenance": []
    },
    "kernelspec": {
      "display_name": "Python 3.7.6 64-bit",
      "language": "python",
      "name": "python3"
    },
    "language_info": {
      "name": "python",
      "version": "3.7.6"
    },
    "vscode": {
      "interpreter": {
        "hash": "32101a8118c94f36cfba773c286bb0b54d6de613c34f73590bc6c816a2930046"
      }
    }
  },
  "nbformat": 4,
  "nbformat_minor": 0
}
