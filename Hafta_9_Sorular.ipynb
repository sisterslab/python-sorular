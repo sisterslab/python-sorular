{
  "cells": [
    {
      "cell_type": "code",
      "execution_count": null,
      "metadata": {
        "id": "I1CWiqC72Zkc"
      },
      "outputs": [],
      "source": [
        "import numpy as np"
      ]
    },
    {
      "cell_type": "markdown",
      "metadata": {
        "id": "Z2qGz66D1Y3Q"
      },
      "source": [
        "### Soru 1\n",
        "* 30 ile 70 arasındaki sayıları içeren bir array oluşturunuz. \n",
        "* Oluşturduğunuz array'i 4x5x2 şekline çeviriniz.\n",
        "* Oluşturduğunuz array'in son boyutundaki elemanların ilkini yazdırınız. Örnek çıktı; \\\n",
        "[[30 32 34 36 38]\\\n",
        " [40 42 44 46 48]\\\n",
        " [50 52 54 56 58]\\\n",
        " [60 62 64 66 68]]"
      ]
    },
    {
      "cell_type": "code",
      "execution_count": null,
      "metadata": {
        "colab": {
          "base_uri": "https://localhost:8080/"
        },
        "id": "AJzqQRVa2Sq_",
        "outputId": "bde6bf19-46bd-4604-a35d-ea1174fb2105"
      },
      "outputs": [
        {
          "name": "stdout",
          "output_type": "stream",
          "text": [
            "[30 31 32 33 34 35 36 37 38 39 40 41 42 43 44 45 46 47 48 49 50 51 52 53\n",
            " 54 55 56 57 58 59 60 61 62 63 64 65 66 67 68 69]\n",
            "[[[30 31]\n",
            "  [32 33]\n",
            "  [34 35]\n",
            "  [36 37]\n",
            "  [38 39]]\n",
            "\n",
            " [[40 41]\n",
            "  [42 43]\n",
            "  [44 45]\n",
            "  [46 47]\n",
            "  [48 49]]\n",
            "\n",
            " [[50 51]\n",
            "  [52 53]\n",
            "  [54 55]\n",
            "  [56 57]\n",
            "  [58 59]]\n",
            "\n",
            " [[60 61]\n",
            "  [62 63]\n",
            "  [64 65]\n",
            "  [66 67]\n",
            "  [68 69]]]\n",
            "[[30 32 34 36 38]\n",
            " [40 42 44 46 48]\n",
            " [50 52 54 56 58]\n",
            " [60 62 64 66 68]]\n"
          ]
        }
      ],
      "source": [
        "# Cevap"
      ]
    },
    {
      "cell_type": "markdown",
      "metadata": {
        "id": "N25c7gHOP2DL"
      },
      "source": [
        "### Soru - 2\n",
        "- Kullanicidan sirasiyla `adi, soyadi, yasi ve yasadigi sehrin plaka kodu` inputlarini alip bunlari 2x2 formatinda bir array'e cevirin. Ornek cikti su sekilde olmali:\n",
        "\n",
        "```python\n",
        "# array([['Arzu', 'Asya'],\n",
        "#        ['27', '35']], dtype='<U1')\n",
        "```"
      ]
    },
    {
      "cell_type": "code",
      "execution_count": null,
      "metadata": {
        "colab": {
          "base_uri": "https://localhost:8080/"
        },
        "id": "1prE9ZchBpyQ",
        "outputId": "b94b48a7-a895-484b-d21e-5d8d2781eecc"
      },
      "outputs": [
        {
          "name": "stdout",
          "output_type": "stream",
          "text": [
            "Ad giriniz3\n",
            "Soyad giriniz5\n",
            "Yas giriniz\n",
            "Plaka giriniz\n"
          ]
        },
        {
          "data": {
            "text/plain": [
              "array([['3', '5'],\n",
              "       ['', '']], dtype='<U1')"
            ]
          },
          "execution_count": 3,
          "metadata": {},
          "output_type": "execute_result"
        }
      ],
      "source": [
        "# Cevap"
      ]
    },
    {
      "cell_type": "markdown",
      "metadata": {
        "id": "RJsEB4C4FJZk"
      },
      "source": [
        "### Soru - 3\n",
        "- Alttaki kodu calistirdiginizda 3 boyutlu ve tamami sifirlardan olusan bir array elde edeceksiniz. Bu arrayin ciktisini altta belirtilen hedef ciktiya donusturmek icin gerekli basamaklari kurgulayiniz.\n",
        "```python\n",
        "zeros = np.array([np.zeros(10), np.zeros(10), np.zeros(10)], ndmin = 3)\n",
        "zeros\n",
        "\n",
        "# Cikti\n",
        "# array([[[0., 0., 0., 0., 0., 0., 0., 0., 0., 0.],\n",
        "#         [0., 0., 0., 0., 0., 0., 0., 0., 0., 0.],\n",
        "#         [0., 0., 0., 0., 0., 0., 0., 0., 0., 0.]]])\n",
        "```\n",
        "- Hedef Cikti:\n",
        "# array([[[1., 0., 1., 0., 1., 0., 1., 0., 1., 0.],\n",
        "#         [0., 1., 0., 1., 0., 1., 0., 1., 0., 1.],\n",
        "#         [1., 0., 1., 0., 1., 0., 1., 0., 1., 0.]]])"
      ]
    },
    {
      "cell_type": "code",
      "execution_count": null,
      "metadata": {
        "id": "f6N0TxzJG1dK"
      },
      "outputs": [],
      "source": [
        "# Cevap"
      ]
    },
    {
      "cell_type": "markdown",
      "metadata": {
        "id": "JJXj3v2ZJOjX"
      },
      "source": [
        "### Soru 4\n",
        "Verilen array'i birim matrise çeviren bir fonksiyon yazınız."
      ]
    },
    {
      "cell_type": "code",
      "execution_count": null,
      "metadata": {
        "colab": {
          "base_uri": "https://localhost:8080/"
        },
        "id": "GWtFv0NCJVvW",
        "outputId": "3a3de974-7fd1-4030-9e9f-5666f6839991"
      },
      "outputs": [
        {
          "name": "stdout",
          "output_type": "stream",
          "text": [
            "[[1 0 0 0 0]\n",
            " [0 1 0 0 0]\n",
            " [0 0 1 0 0]\n",
            " [0 0 0 1 0]\n",
            " [0 0 0 0 1]]\n"
          ]
        }
      ],
      "source": [
        "# Cevap"
      ]
    },
    {
      "cell_type": "markdown",
      "metadata": {
        "id": "nB_DWYckJosR"
      },
      "source": [
        "### Soru 5\n",
        "* 0 ile 500 arasındaki 5'in katı olan sayılardan bir array oluşturunuz.\n",
        "* Oluşturduğunuz array'i 3 boyutlu herhangi bir array'e çeviriniz.Örnek olarak: 2x5x10, 4x5x5, 1x10x10 gibi arrayler olabilir.\n",
        "* Oluşturduğunuz array'in indexlerini tek tek gezerek 6'ya tam olarak bölünen değerleri bulunuz. "
      ]
    },
    {
      "cell_type": "code",
      "execution_count": null,
      "metadata": {
        "colab": {
          "base_uri": "https://localhost:8080/"
        },
        "id": "1fyaDhqzJrjh",
        "outputId": "bd7b282f-eba6-498a-ac1d-9b489f0fc2f7"
      },
      "outputs": [
        {
          "name": "stdout",
          "output_type": "stream",
          "text": [
            "0\n",
            "30\n",
            "60\n",
            "90\n",
            "120\n",
            "150\n",
            "180\n",
            "210\n",
            "240\n",
            "270\n",
            "300\n",
            "330\n",
            "360\n",
            "390\n",
            "420\n",
            "450\n",
            "480\n"
          ]
        }
      ],
      "source": [
        "# Cevap"
      ]
    },
    {
      "cell_type": "markdown",
      "metadata": {
        "id": "tTtusD4gJy8B"
      },
      "source": [
        "### Soru 6\n",
        "\n",
        " Bir arama fonksiyonu yazınız ve parametre olarak bir array ve aranan değeri alınız. Aranan değer array içerisinde bulunuyorsa bulunduğu index'i, bulunmuyorsa '-1' değerini döndürünüz. Bu fonksiyonu sadece 3 boyutlu arrayler için yazınız."
      ]
    },
    {
      "cell_type": "code",
      "execution_count": null,
      "metadata": {
        "colab": {
          "base_uri": "https://localhost:8080/"
        },
        "id": "sluW0H9oJ1hZ",
        "outputId": "82d59ff6-da0d-4cad-91fb-3add80fdc51f"
      },
      "outputs": [
        {
          "name": "stdout",
          "output_type": "stream",
          "text": [
            "[[[  0   5  10  15  20]\n",
            "  [ 25  30  35  40  45]\n",
            "  [ 50  55  60  65  70]\n",
            "  [ 75  80  85  90  95]\n",
            "  [100 105 110 115 120]]\n",
            "\n",
            " [[125 130 135 140 145]\n",
            "  [150 155 160 165 170]\n",
            "  [175 180 185 190 195]\n",
            "  [200 205 210 215 220]\n",
            "  [225 230 235 240 245]]\n",
            "\n",
            " [[250 255 260 265 270]\n",
            "  [275 280 285 290 295]\n",
            "  [300 305 310 315 320]\n",
            "  [325 330 335 340 345]\n",
            "  [350 355 360 365 370]]\n",
            "\n",
            " [[375 380 385 390 395]\n",
            "  [400 405 410 415 420]\n",
            "  [425 430 435 440 445]\n",
            "  [450 455 460 465 470]\n",
            "  [475 480 485 490 495]]]\n",
            "(0, 1, 1)\n"
          ]
        }
      ],
      "source": [
        "# Cevap"
      ]
    }
  ],
  "metadata": {
    "colab": {
      "collapsed_sections": [],
      "name": "Hafta_9_Sorular.ipynb",
      "provenance": []
    },
    "kernelspec": {
      "display_name": "Python 3",
      "name": "python3"
    },
    "language_info": {
      "name": "python"
    }
  },
  "nbformat": 4,
  "nbformat_minor": 0
}
